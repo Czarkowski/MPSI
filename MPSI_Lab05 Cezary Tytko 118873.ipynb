{
 "cells": [
  {
   "cell_type": "code",
   "execution_count": 1,
   "id": "8ac40dced1d1fc4c",
   "metadata": {
    "ExecuteTime": {
     "end_time": "2023-11-02T17:30:20.489097100Z",
     "start_time": "2023-11-02T17:30:20.285766500Z"
    },
    "collapsed": false,
    "jupyter": {
     "outputs_hidden": false
    }
   },
   "outputs": [],
   "source": [
    "import numpy as np"
   ]
  },
  {
   "cell_type": "markdown",
   "id": "a3e8dddb-4399-46c8-a0bd-982041d315f6",
   "metadata": {},
   "source": [
    "## Dane studenta"
   ]
  },
  {
   "cell_type": "markdown",
   "id": "092677a5-52e1-4617-92b5-a5c1cb0855cf",
   "metadata": {},
   "source": [
    "Cezary Tytko 118873"
   ]
  },
  {
   "cell_type": "markdown",
   "id": "24ab3b2fb11230a4",
   "metadata": {},
   "source": [
    "# Zadania do samodzielnego wykonania"
   ]
  },
  {
   "cell_type": "markdown",
   "id": "4cee95e32bcbd29e",
   "metadata": {},
   "source": [
    "## Ćwiczenie 1"
   ]
  },
  {
   "cell_type": "markdown",
   "id": "92e7f08549810f76",
   "metadata": {},
   "source": [
    "Stwórz macierz o wymiarach 3x3, która zawiera losowe liczby całkowite z zakresu od 1 do 10."
   ]
  },
  {
   "cell_type": "code",
   "execution_count": 2,
   "id": "0d31618c-dbe5-4154-be14-f6e04a718a3e",
   "metadata": {
    "collapsed": false,
    "jupyter": {
     "outputs_hidden": false
    }
   },
   "outputs": [
    {
     "name": "stdout",
     "output_type": "stream",
     "text": [
      "[[7 5 8]\n",
      " [6 2 4]\n",
      " [5 7 1]]\n"
     ]
    }
   ],
   "source": [
    "macierz = np.random.randint(1, 11, (3, 3))\n",
    "print(macierz)"
   ]
  },
  {
   "cell_type": "markdown",
   "id": "75b9f1c0184964ca",
   "metadata": {},
   "source": [
    "## Ćwiczenie 2"
   ]
  },
  {
   "cell_type": "markdown",
   "id": "f4f5bee50e8ab07f",
   "metadata": {},
   "source": [
    "Znajdź średnią wartość dla każdej kolumny w macierzy z poprzedniego zadania."
   ]
  },
  {
   "cell_type": "code",
   "execution_count": 3,
   "id": "79de92ce7d7b06c0",
   "metadata": {
    "collapsed": false,
    "jupyter": {
     "outputs_hidden": false
    }
   },
   "outputs": [
    {
     "name": "stdout",
     "output_type": "stream",
     "text": [
      "[6.         4.66666667 4.33333333]\n"
     ]
    }
   ],
   "source": [
    "srednie_kolumn = np.mean(macierz, axis=0)\n",
    "print(srednie_kolumn)"
   ]
  },
  {
   "cell_type": "markdown",
   "id": "f10ec758558f2c23",
   "metadata": {},
   "source": [
    "## Ćwiczenie 3"
   ]
  },
  {
   "cell_type": "markdown",
   "id": "3aae1fb787546bb9",
   "metadata": {},
   "source": [
    "Wykonaj operację transpozycji na wcześniej stworzonej macierzy."
   ]
  },
  {
   "cell_type": "code",
   "execution_count": 4,
   "id": "255196fe0769a9f5",
   "metadata": {
    "collapsed": false,
    "jupyter": {
     "outputs_hidden": false
    }
   },
   "outputs": [
    {
     "name": "stdout",
     "output_type": "stream",
     "text": [
      "[[7 6 5]\n",
      " [5 2 7]\n",
      " [8 4 1]]\n"
     ]
    }
   ],
   "source": [
    "transpozycja_macierzy = np.transpose(macierz)\n",
    "print(transpozycja_macierzy)\n"
   ]
  },
  {
   "cell_type": "markdown",
   "id": "bbde43ebb3c19b15",
   "metadata": {},
   "source": [
    "## Ćwiczenie 4"
   ]
  },
  {
   "cell_type": "markdown",
   "id": "ce5be05f2dcdaa0a",
   "metadata": {},
   "source": [
    "Przemnóż dwie macierze o wymiarach 3x3, gdzie elementy są losowymi liczbami rzeczywistymi."
   ]
  },
  {
   "cell_type": "code",
   "execution_count": 5,
   "id": "3537c745-c117-408d-84f4-02781132d41e",
   "metadata": {},
   "outputs": [
    {
     "name": "stdout",
     "output_type": "stream",
     "text": [
      "[[0.96702292 1.47140204 0.55921651]\n",
      " [0.18173338 0.81715603 0.52780657]\n",
      " [0.72012883 1.129606   0.49579599]]\n"
     ]
    }
   ],
   "source": [
    "macierz1 = np.random.rand(3, 3)\n",
    "macierz2 = np.random.rand(3, 3)\n",
    "iloczyn_macierzy = np.dot(macierz1, macierz2)\n",
    "print(iloczyn_macierzy)"
   ]
  },
  {
   "cell_type": "markdown",
   "id": "c7aaa8e7e4c97ba6",
   "metadata": {},
   "source": [
    "## Ćwiczenie 5"
   ]
  },
  {
   "cell_type": "markdown",
   "id": "8dce13cd0a5c0806",
   "metadata": {},
   "source": [
    "Znajdź indeks maksymalnej wartości w jednowymiarowej tablicy NumPy."
   ]
  },
  {
   "cell_type": "code",
   "execution_count": 14,
   "id": "ea340b95bff9da8f",
   "metadata": {
    "collapsed": false,
    "jupyter": {
     "outputs_hidden": false
    }
   },
   "outputs": [
    {
     "name": "stdout",
     "output_type": "stream",
     "text": [
      "[2 3 8 8 0 7]\n",
      "2\n"
     ]
    }
   ],
   "source": [
    "jednowymiarowa_tablica = np.random.randint(0, 10, 6)\n",
    "print(jednowymiarowa_tablica)\n",
    "indeks_max = np.argmax(jednowymiarowa_tablica)\n",
    "print(indeks_max)"
   ]
  },
  {
   "cell_type": "markdown",
   "id": "4696a870de64c274",
   "metadata": {},
   "source": [
    "## Ćwiczenie 6"
   ]
  },
  {
   "cell_type": "markdown",
   "id": "ad4035b3f4aafa77",
   "metadata": {},
   "source": [
    "Stwórz macierz o wymiarach 4x4, wypełnioną liczbami z rozkładu normalnego."
   ]
  },
  {
   "cell_type": "code",
   "execution_count": 15,
   "id": "42190a883164f91e",
   "metadata": {
    "collapsed": false,
    "jupyter": {
     "outputs_hidden": false
    }
   },
   "outputs": [
    {
     "name": "stdout",
     "output_type": "stream",
     "text": [
      "[[ 0.88841385 -2.26793918 -0.78273352 -0.23088957]\n",
      " [-0.96397198  0.39677622 -0.84854017 -0.60556427]\n",
      " [-0.23453549 -1.32051911  0.2475837  -0.58210444]\n",
      " [ 0.00434343 -0.82001026 -0.79820883 -0.68163606]]\n"
     ]
    }
   ],
   "source": [
    "macierz_normalna = np.random.randn(4, 4)\n",
    "print(macierz_normalna)"
   ]
  },
  {
   "cell_type": "markdown",
   "id": "496629947ea6550b",
   "metadata": {},
   "source": [
    "## Ćwiczenie 7"
   ]
  },
  {
   "cell_type": "markdown",
   "id": "63acecf9dbe22f9f",
   "metadata": {},
   "source": [
    "Znajdź wszystkie unikalne wartości w jednowymiarowej tablicy NumPy."
   ]
  },
  {
   "cell_type": "code",
   "execution_count": 16,
   "id": "f200d9ee-4132-4ceb-8972-acdb6e9e61ba",
   "metadata": {},
   "outputs": [
    {
     "name": "stdout",
     "output_type": "stream",
     "text": [
      "[0 2 3 7 8]\n"
     ]
    }
   ],
   "source": [
    "jednowymiarowa_unikalne = np.unique(jednowymiarowa_tablica)\n",
    "print(jednowymiarowa_unikalne)"
   ]
  },
  {
   "cell_type": "markdown",
   "id": "4a65028c892c4bc8",
   "metadata": {},
   "source": [
    "## Ćwiczenie 8"
   ]
  },
  {
   "cell_type": "markdown",
   "id": "80df71baa84113a",
   "metadata": {},
   "source": [
    "Wykorzystaj broadcasting w NumPy do przemnożenia macierzy o wymiarach (3, 4) przez wektor o długości 4."
   ]
  },
  {
   "cell_type": "code",
   "execution_count": 22,
   "id": "818f039e76804759",
   "metadata": {
    "collapsed": false,
    "jupyter": {
     "outputs_hidden": false
    }
   },
   "outputs": [
    {
     "name": "stdout",
     "output_type": "stream",
     "text": [
      "[[0.97820362]\n",
      " [0.56556224]\n",
      " [0.66746921]]\n"
     ]
    }
   ],
   "source": [
    "macierz = np.random.rand(3, 4)\n",
    "wektor = np.random.rand(4)\n",
    "wynik = macierz.dot(wektor.reshape(4,1))\n",
    "print(wynik)"
   ]
  },
  {
   "cell_type": "markdown",
   "id": "e6aedb4b8e5851c",
   "metadata": {},
   "source": [
    "## Ćwiczenie 9"
   ]
  },
  {
   "cell_type": "markdown",
   "id": "b113e774227042b9",
   "metadata": {},
   "source": [
    "Stwórz funkcję, która znajdzie miejsca zerowe funkcji kwadratowej, reprezentowanej przez wektory współczynników a, b i c."
   ]
  },
  {
   "cell_type": "code",
   "execution_count": 11,
   "id": "8754ed46-216f-4b01-a0fd-e18b7feb40b6",
   "metadata": {},
   "outputs": [
    {
     "name": "stdout",
     "output_type": "stream",
     "text": [
      "(2.0, 1.0)\n"
     ]
    }
   ],
   "source": [
    "def miejsca_zerowe(a, b, c):\n",
    "    delta = b**2 - 4*a*c\n",
    "    if delta > 0:\n",
    "        x1 = (-b + np.sqrt(delta)) / (2*a)\n",
    "        x2 = (-b - np.sqrt(delta)) / (2*a)\n",
    "        return x1, x2\n",
    "    elif delta == 0:\n",
    "        x = -b / (2*a)\n",
    "        return x,\n",
    "    else:\n",
    "        return \"Brak miejsc zerowych dla funkcji kwadratowej.\"\n",
    "\n",
    "a = 1\n",
    "b = -3\n",
    "c = 2\n",
    "print(miejsca_zerowe(a, b, c))"
   ]
  },
  {
   "cell_type": "markdown",
   "id": "adc5a6a6-ee6e-45e0-ba88-3e71be1454fe",
   "metadata": {
    "tags": []
   },
   "source": [
    "# Wnioski i sugestie do ćwiczeń"
   ]
  },
  {
   "cell_type": "markdown",
   "id": "36ddd5dc-5be9-4e56-8e85-5cfdabeff398",
   "metadata": {},
   "source": [
    "Wnioski: \n",
    "Były to dobre zadania podsumowujące zdobytą widzę, ćwiczenia zwierają przekrój kluczowych i najważniejszych funkcjonalności biblioteki numpy, która jest podstawowym i elementarnym narzędziem przy pracy z tablicami."
   ]
  }
 ],
 "metadata": {
  "kernelspec": {
   "display_name": "Python 3 (ipykernel)",
   "language": "python",
   "name": "python3"
  },
  "language_info": {
   "codemirror_mode": {
    "name": "ipython",
    "version": 3
   },
   "file_extension": ".py",
   "mimetype": "text/x-python",
   "name": "python",
   "nbconvert_exporter": "python",
   "pygments_lexer": "ipython3",
   "version": "3.11.7"
  }
 },
 "nbformat": 4,
 "nbformat_minor": 5
}
