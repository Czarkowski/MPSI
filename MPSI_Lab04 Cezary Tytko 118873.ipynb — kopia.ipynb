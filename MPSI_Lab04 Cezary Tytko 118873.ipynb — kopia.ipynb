{
 "cells": [
  {
   "cell_type": "code",
   "execution_count": 1,
   "id": "8ac40dced1d1fc4c",
   "metadata": {
    "ExecuteTime": {
     "end_time": "2023-11-02T17:30:20.489097100Z",
     "start_time": "2023-11-02T17:30:20.285766500Z"
    },
    "collapsed": false,
    "jupyter": {
     "outputs_hidden": false
    }
   },
   "outputs": [],
   "source": [
    "import numpy as np"
   ]
  },
  {
   "cell_type": "markdown",
   "id": "a3e8dddb-4399-46c8-a0bd-982041d315f6",
   "metadata": {},
   "source": [
    "## Dane studenta"
   ]
  },
  {
   "cell_type": "markdown",
   "id": "092677a5-52e1-4617-92b5-a5c1cb0855cf",
   "metadata": {},
   "source": [
    "Cezary Tytko 118873"
   ]
  },
  {
   "cell_type": "markdown",
   "id": "24ab3b2fb11230a4",
   "metadata": {},
   "source": [
    "# Zadania do samodzielnego wykonania"
   ]
  },
  {
   "cell_type": "markdown",
   "id": "4cee95e32bcbd29e",
   "metadata": {},
   "source": [
    "## Ćwiczenie 1"
   ]
  },
  {
   "cell_type": "markdown",
   "id": "92e7f08549810f76",
   "metadata": {},
   "source": [
    "Zbuduj tablicę składającą się ze średnich arytmetycznych odpowiednich elementów tablic A i B.\n",
    "Wydrukuj wynik do konsoli."
   ]
  },
  {
   "cell_type": "code",
   "execution_count": 2,
   "id": "0d31618c-dbe5-4154-be14-f6e04a718a3e",
   "metadata": {
    "collapsed": false,
    "jupyter": {
     "outputs_hidden": false
    }
   },
   "outputs": [],
   "source": [
    "A = np.array([[3, 4, 9, 2], [5, 3, 2, 5]])\n",
    "B = np.array([[4, 3, 2, 5], [6, 3, 1, 6]])"
   ]
  },
  {
   "cell_type": "markdown",
   "id": "aacae5bc1a266c",
   "metadata": {},
   "source": [
    "### Miejsce na rozwiązanie"
   ]
  },
  {
   "cell_type": "code",
   "execution_count": 3,
   "id": "9cd623f7ba7103cf",
   "metadata": {
    "collapsed": false,
    "jupyter": {
     "outputs_hidden": false
    }
   },
   "outputs": [
    {
     "name": "stdout",
     "output_type": "stream",
     "text": [
      "1.1 Wynik:\n",
      "[[3.5 3.5 5.5 3.5]\n",
      " [5.5 3.  1.5 5.5]]\n"
     ]
    }
   ],
   "source": [
    "srednie_arytmetyczne = (A + B) / 2\n",
    "print(srednie_arytmetyczne)"
   ]
  },
  {
   "cell_type": "markdown",
   "id": "75b9f1c0184964ca",
   "metadata": {},
   "source": [
    "## Ćwiczenie 2"
   ]
  },
  {
   "cell_type": "markdown",
   "id": "f4f5bee50e8ab07f",
   "metadata": {},
   "source": [
    "Wykonaj mnożenie tablic A i B element po elemencie. Wydrukuj wynik do konsoli."
   ]
  },
  {
   "cell_type": "code",
   "execution_count": 4,
   "id": "79de92ce7d7b06c0",
   "metadata": {
    "collapsed": false,
    "jupyter": {
     "outputs_hidden": false
    }
   },
   "outputs": [
    {
     "name": "stdout",
     "output_type": "stream",
     "text": [
      "\n",
      "1.2 Wynik:\n",
      "[[12 12 18 10]\n",
      " [30  9  2 30]]\n"
     ]
    }
   ],
   "source": [
    "mnozenie_element_po_elemencie = A * B\n",
    "print(mnozenie_element_po_elemencie)"
   ]
  },
  {
   "cell_type": "markdown",
   "id": "f10ec758558f2c23",
   "metadata": {},
   "source": [
    "## Ćwiczenie 3"
   ]
  },
  {
   "cell_type": "markdown",
   "id": "3aae1fb787546bb9",
   "metadata": {},
   "source": [
    "Wyznacz pierwiastek z każdego elementu tablicy A. Wydrukuj wynik do konsoli. Wskazówka: Użyj\n",
    "funkcji np.sqrt()"
   ]
  },
  {
   "cell_type": "markdown",
   "id": "384c0eebd1804b7f",
   "metadata": {},
   "source": [
    "### Miejsce na rozwiązanie"
   ]
  },
  {
   "cell_type": "code",
   "execution_count": 5,
   "id": "255196fe0769a9f5",
   "metadata": {
    "collapsed": false,
    "jupyter": {
     "outputs_hidden": false
    }
   },
   "outputs": [
    {
     "name": "stdout",
     "output_type": "stream",
     "text": [
      "[[1.73205081 2.         3.         1.41421356]\n",
      " [2.23606798 1.73205081 1.41421356 2.23606798]]\n"
     ]
    }
   ],
   "source": [
    "A = np.array([[3, 4, 9, 2], [5, 3, 2, 5]])\n",
    "pierwiastki = np.sqrt(A)\n",
    "print(pierwiastki)"
   ]
  },
  {
   "cell_type": "markdown",
   "id": "bbde43ebb3c19b15",
   "metadata": {},
   "source": [
    "## Ćwiczenie 4"
   ]
  },
  {
   "cell_type": "markdown",
   "id": "ce5be05f2dcdaa0a",
   "metadata": {},
   "source": [
    "Sprawdź twierdzenie Pitagorasa dla sinusów i cosinusów wykorzystując tablicę A i następnie porów-\n",
    "naj wynik z tablicą B. Użyj funkcji np.allclose(). Wydrukuj wynik do konsoli. Wskazówka: Użyj\n",
    "funkcji np.sin() oraz np.cos()."
   ]
  },
  {
   "cell_type": "code",
   "execution_count": 6,
   "id": "3537c745-c117-408d-84f4-02781132d41e",
   "metadata": {},
   "outputs": [
    {
     "name": "stdout",
     "output_type": "stream",
     "text": [
      "True\n"
     ]
    }
   ],
   "source": [
    "A = np.linspace(0, np.pi / 2, 20)\n",
    "B = np.full(shape=(20,), fill_value=1, dtype='float')\n",
    "\n",
    "sinusy = np.sin(A)\n",
    "cosinusy = np.cos(A)\n",
    "pitagoras = np.allclose(np.square(sinusy) + np.square(cosinusy), B)\n",
    "print(pitagoras)"
   ]
  },
  {
   "cell_type": "markdown",
   "id": "c7aaa8e7e4c97ba6",
   "metadata": {},
   "source": [
    "## Ćwiczenie 5"
   ]
  },
  {
   "cell_type": "markdown",
   "id": "8dce13cd0a5c0806",
   "metadata": {},
   "source": [
    "Dane są dwie dwuwymiarowe tablice numpy A i B:\n",
    "- A - macierz o kształcie (3,2)\n",
    "- B - macierz o kształcie (2,3)\n",
    "Wykonaj mnożenie macierzy A i B. Wydrukuj wynik do konsoli. Wskazówka: Użyj funkcji\n",
    "np.dot()"
   ]
  },
  {
   "cell_type": "code",
   "execution_count": 7,
   "id": "ea340b95bff9da8f",
   "metadata": {
    "collapsed": false,
    "jupyter": {
     "outputs_hidden": false
    }
   },
   "outputs": [
    {
     "name": "stdout",
     "output_type": "stream",
     "text": [
      "[[  5   6  10]\n",
      " [-18 -12  -4]\n",
      " [ 20  15  10]]\n"
     ]
    }
   ],
   "source": [
    "A = np.array([[2, 3], [-4, 2], [5, 0]])\n",
    "B = np.array([[4, 3, 2], [-1, 0, 2]])\n",
    "mnozenie_macierzy = np.dot(A, B)\n",
    "print(mnozenie_macierzy)"
   ]
  },
  {
   "cell_type": "markdown",
   "id": "4696a870de64c274",
   "metadata": {},
   "source": [
    "## Ćwiczenie 6"
   ]
  },
  {
   "cell_type": "markdown",
   "id": "ad4035b3f4aafa77",
   "metadata": {},
   "source": [
    "Oblicz wyznacznik macierzy A. Wydrukuj wynik do konsoli. Wskazówka: Użyj funkcji\n",
    "np.linalg.det()"
   ]
  },
  {
   "cell_type": "code",
   "execution_count": 8,
   "id": "42190a883164f91e",
   "metadata": {
    "collapsed": false,
    "jupyter": {
     "outputs_hidden": false
    }
   },
   "outputs": [
    {
     "name": "stdout",
     "output_type": "stream",
     "text": [
      "51.999999999999986\n"
     ]
    }
   ],
   "source": [
    "A = np.array([[-2, 0, 4], [5, 2, -1], [-4, 2, 4]])\n",
    "wyznacznik_A = np.linalg.det(A)\n",
    "print(wyznacznik_A)"
   ]
  },
  {
   "cell_type": "markdown",
   "id": "496629947ea6550b",
   "metadata": {},
   "source": [
    "## Ćwiczenie 7"
   ]
  },
  {
   "cell_type": "markdown",
   "id": "63acecf9dbe22f9f",
   "metadata": {},
   "source": [
    "Oblicz wartości własne i odpowiadające im wektory własne macierzy A. Wydrukuj wynik do konsoli.\n",
    "Wskazówka: Użyj funkcji np.linalg.eig()"
   ]
  },
  {
   "cell_type": "code",
   "execution_count": 11,
   "id": "f200d9ee-4132-4ceb-8972-acdb6e9e61ba",
   "metadata": {},
   "outputs": [
    {
     "name": "stdout",
     "output_type": "stream",
     "text": [
      "Wartości własne:\n",
      "[-9.24621125 -3.          7.24621125]\n",
      "\n",
      "Wektory własne:\n",
      "[[-6.26164716e-01 -8.94427191e-01  8.90159406e-01]\n",
      " [-3.13082358e-01  2.82399734e-16  4.45079703e-01]\n",
      " [ 7.14070855e-01  4.47213595e-01 -9.75719719e-02]]\n"
     ]
    }
   ],
   "source": [
    "A = np.array([[5, 8, 16], [4, 1, 8], [-4, 4, -11]])\n",
    "wartosci_wlasne, wektory_wlasne = np.linalg.eig(A)\n",
    "print(\"Wartości własne:\")\n",
    "print(wartosci_wlasne)\n",
    "print(\"\\nWektory własne:\")\n",
    "print(wektory_wlasne)"
   ]
  },
  {
   "cell_type": "markdown",
   "id": "4a65028c892c4bc8",
   "metadata": {},
   "source": [
    "## Ćwiczenie 8"
   ]
  },
  {
   "cell_type": "markdown",
   "id": "80df71baa84113a",
   "metadata": {},
   "source": [
    "Znajdź macierz odwrotną do macierzy A. Wydrukuj wynik do konsoli. Wskazówka: Użyj funkcji\n",
    "np.linalg.inv()"
   ]
  },
  {
   "cell_type": "code",
   "execution_count": 12,
   "id": "818f039e76804759",
   "metadata": {
    "collapsed": false,
    "jupyter": {
     "outputs_hidden": false
    }
   },
   "outputs": [
    {
     "name": "stdout",
     "output_type": "stream",
     "text": [
      "\n",
      "1.8 Wynik:\n",
      "[[-0.21393035  0.75621891  0.23880597]\n",
      " [ 0.05970149  0.04477612  0.11940299]\n",
      " [ 0.09950249 -0.25870647 -0.13432836]]\n"
     ]
    }
   ],
   "source": [
    "A = np.array([[5, 8, 16], [4, 1, 8], [-4, 4, -11]])\n",
    "macierz_odwrotna_A = np.linalg.inv(A)\n",
    "print(macierz_odwrotna_A)"
   ]
  },
  {
   "cell_type": "markdown",
   "id": "e6aedb4b8e5851c",
   "metadata": {},
   "source": [
    "## Ćwiczenie 9"
   ]
  },
  {
   "cell_type": "markdown",
   "id": "b113e774227042b9",
   "metadata": {},
   "source": [
    "Znajdź ślad macierzy kwadratowej G (suma elementów na głównej przekątnej). Wydrukuj wynik\n",
    "do konsoli. Wskazówka: Użyj funkcji p.trace()"
   ]
  },
  {
   "cell_type": "code",
   "execution_count": 14,
   "id": "8754ed46-216f-4b01-a0fd-e18b7feb40b6",
   "metadata": {},
   "outputs": [
    {
     "name": "stdout",
     "output_type": "stream",
     "text": [
      "-5\n"
     ]
    }
   ],
   "source": [
    "G = np.array([[5, 8, 16], [4, 1, 8], [-4, 4, -11]])\n",
    "slad_G = np.trace(G)\n",
    "print(slad_G)"
   ]
  },
  {
   "cell_type": "markdown",
   "id": "558a184b94674131",
   "metadata": {},
   "source": [
    "## Ćwiczenie 10"
   ]
  },
  {
   "cell_type": "markdown",
   "id": "1587384ae60a6902",
   "metadata": {},
   "source": [
    "Przekształć tablicę B tak, aby móc wykonać mnożenie macierzy A￿B. Wykonaj to mnożenie.\n",
    "Wydrukuj wynik do konsoli"
   ]
  },
  {
   "cell_type": "code",
   "execution_count": 16,
   "id": "a87fcc16-a6d0-48d2-a100-979214b413a2",
   "metadata": {},
   "outputs": [
    {
     "name": "stdout",
     "output_type": "stream",
     "text": [
      "[[ 8  0  4  2]\n",
      " [18  0 12 22]\n",
      " [23  0 16 32]\n",
      " [18  0 12 22]]\n"
     ]
    }
   ],
   "source": [
    "A = np.array([[2, 0], [4, 2], [5, 3], [4, 2]])\n",
    "B = np.array([[4, 0, 2, 1, 1, 0, 2, 9]])\n",
    "B_zmieniona = B.reshape((2, 4))\n",
    "mnozenie_macierzy_A_B = np.dot(A, B_zmieniona)\n",
    "print(mnozenie_macierzy_A_B)"
   ]
  },
  {
   "cell_type": "markdown",
   "id": "adc5a6a6-ee6e-45e0-ba88-3e71be1454fe",
   "metadata": {
    "tags": []
   },
   "source": [
    "# Wnioski i sugestie do ćwiczeń"
   ]
  },
  {
   "cell_type": "markdown",
   "id": "36ddd5dc-5be9-4e56-8e85-5cfdabeff398",
   "metadata": {},
   "source": [
    "Wnioski: ćwieczenia nie sprawiły problemu, szczegulnie przydatne moga być funkcje takie jak inv, det z numpy.linalg które pozwalają liczyć przydatne własnosći macierzy "
   ]
  }
 ],
 "metadata": {
  "kernelspec": {
   "display_name": "Python 3 (ipykernel)",
   "language": "python",
   "name": "python3"
  },
  "language_info": {
   "codemirror_mode": {
    "name": "ipython",
    "version": 3
   },
   "file_extension": ".py",
   "mimetype": "text/x-python",
   "name": "python",
   "nbconvert_exporter": "python",
   "pygments_lexer": "ipython3",
   "version": "3.11.7"
  }
 },
 "nbformat": 4,
 "nbformat_minor": 5
}
