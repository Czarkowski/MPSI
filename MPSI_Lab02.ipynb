{
 "cells": [
  {
   "cell_type": "code",
   "execution_count": 1,
   "id": "8ac40dced1d1fc4c",
   "metadata": {
    "ExecuteTime": {
     "end_time": "2023-11-02T17:30:20.489097100Z",
     "start_time": "2023-11-02T17:30:20.285766500Z"
    },
    "collapsed": false,
    "jupyter": {
     "outputs_hidden": false
    }
   },
   "outputs": [],
   "source": [
    "import numpy as np"
   ]
  },
  {
   "cell_type": "markdown",
   "id": "a3e8dddb-4399-46c8-a0bd-982041d315f6",
   "metadata": {},
   "source": [
    "## Dane studenta"
   ]
  },
  {
   "cell_type": "markdown",
   "id": "092677a5-52e1-4617-92b5-a5c1cb0855cf",
   "metadata": {},
   "source": [
    "Cezary Tytko 118873"
   ]
  },
  {
   "cell_type": "markdown",
   "id": "24ab3b2fb11230a4",
   "metadata": {},
   "source": [
    "# Zadania do samodzielnego wykonania"
   ]
  },
  {
   "cell_type": "markdown",
   "id": "4cee95e32bcbd29e",
   "metadata": {},
   "source": [
    "## Ćwiczenie 1"
   ]
  },
  {
   "cell_type": "markdown",
   "id": "92e7f08549810f76",
   "metadata": {},
   "source": [
    "Wygeneruj następującą tablicę numpy:"
   ]
  },
  {
   "cell_type": "code",
   "execution_count": 21,
   "id": "0d31618c-dbe5-4154-be14-f6e04a718a3e",
   "metadata": {
    "collapsed": false,
    "jupyter": {
     "outputs_hidden": false
    }
   },
   "outputs": [],
   "source": [
    "A = np.array([[ 0,  1,  2,  3],\n",
    "       [ 4,  5,  6,  7],\n",
    "       [ 8,  9, 10, 11]])"
   ]
  },
  {
   "cell_type": "markdown",
   "id": "2f050785b574e135",
   "metadata": {},
   "source": [
    "Zapisz tablicę do pliku tekstowego o nazwie `array.txt` z dwoma miejscami po przecinku, załaduj plik z powrotem do innej zmiennej i wydrukuj jej zawartość do konsoli.\n",
    "\n",
    "Wskazówka: Użyj funkcji `np.savetxt()` oraz `np.loadtxt()`."
   ]
  },
  {
   "cell_type": "markdown",
   "id": "aacae5bc1a266c",
   "metadata": {},
   "source": [
    "### Miejsce na rozwiązanie"
   ]
  },
  {
   "cell_type": "code",
   "execution_count": 7,
   "id": "9cd623f7ba7103cf",
   "metadata": {
    "collapsed": false,
    "jupyter": {
     "outputs_hidden": false
    }
   },
   "outputs": [
    {
     "name": "stdout",
     "output_type": "stream",
     "text": [
      "[[ 0.  1.  2.  3.]\n",
      " [ 4.  5.  6.  7.]\n",
      " [ 8.  9. 10. 11.]]\n"
     ]
    }
   ],
   "source": [
    "np.savetxt('array.txt',A)\n",
    "B = np.loadtxt('array.txt')\n",
    "print(B)"
   ]
  },
  {
   "cell_type": "markdown",
   "id": "75b9f1c0184964ca",
   "metadata": {},
   "source": [
    "## Ćwiczenie 2"
   ]
  },
  {
   "cell_type": "markdown",
   "id": "f4f5bee50e8ab07f",
   "metadata": {},
   "source": [
    "Listę z zadania 1 wczytaj do nowej zmiennej, a następnie przekształć ją na listę a wynik wydrukuj w konsoli.\n",
    "Wskazówka: Użyj metody `np.array.tolist()`."
   ]
  },
  {
   "cell_type": "markdown",
   "id": "ed6c345906ab79d0",
   "metadata": {},
   "source": [
    "### Miejsce na rozwiązanie"
   ]
  },
  {
   "cell_type": "code",
   "execution_count": 8,
   "id": "79de92ce7d7b06c0",
   "metadata": {
    "collapsed": false,
    "jupyter": {
     "outputs_hidden": false
    }
   },
   "outputs": [
    {
     "name": "stdout",
     "output_type": "stream",
     "text": [
      "[[0, 1, 2, 3], [4, 5, 6, 7], [8, 9, 10, 11]]\n"
     ]
    }
   ],
   "source": [
    "C = A.tolist()\n",
    "print(C)"
   ]
  },
  {
   "cell_type": "markdown",
   "id": "f10ec758558f2c23",
   "metadata": {},
   "source": [
    "## Ćwiczenie 3"
   ]
  },
  {
   "cell_type": "markdown",
   "id": "3aae1fb787546bb9",
   "metadata": {},
   "source": [
    "Listę z zadania 1 przekształć zamieniająć pierwszy i ostatni wiersz ze sobą."
   ]
  },
  {
   "cell_type": "markdown",
   "id": "ebf6648c756b871b",
   "metadata": {},
   "source": [
    "Wydrukuj wynik do konsoli."
   ]
  },
  {
   "cell_type": "markdown",
   "id": "384c0eebd1804b7f",
   "metadata": {},
   "source": [
    "### Miejsce na rozwiązanie"
   ]
  },
  {
   "cell_type": "code",
   "execution_count": 23,
   "id": "255196fe0769a9f5",
   "metadata": {
    "collapsed": false,
    "jupyter": {
     "outputs_hidden": false
    }
   },
   "outputs": [
    {
     "name": "stdout",
     "output_type": "stream",
     "text": [
      "[[8, 9, 10, 11], [4, 5, 6, 7], [0, 1, 2, 3]]\n"
     ]
    }
   ],
   "source": [
    "a = C[0]\n",
    "C[0] = C[2]\n",
    "C[2] = a\n",
    "print(C)"
   ]
  },
  {
   "cell_type": "markdown",
   "id": "bbde43ebb3c19b15",
   "metadata": {},
   "source": [
    "## Ćwiczenie 4"
   ]
  },
  {
   "cell_type": "markdown",
   "id": "ce5be05f2dcdaa0a",
   "metadata": {},
   "source": [
    "Następującą tablicę numpy:"
   ]
  },
  {
   "cell_type": "code",
   "execution_count": 24,
   "id": "3537c745-c117-408d-84f4-02781132d41e",
   "metadata": {},
   "outputs": [],
   "source": [
    "A = np.array([[1., 1., 1., 1.],\n",
    "       [1., 1., 1., 1.],\n",
    "       [1., 1., 1., 1.],\n",
    "       [1., 1., 1., 1.]])"
   ]
  },
  {
   "cell_type": "markdown",
   "id": "41e801f5e44769f2",
   "metadata": {},
   "source": [
    "przekształć w tablicę poniżej:"
   ]
  },
  {
   "cell_type": "code",
   "execution_count": null,
   "id": "983c6ff7-9853-4d7b-92c9-1ba4571b5450",
   "metadata": {},
   "outputs": [],
   "source": [
    "array([[0., 0., 0., 0., 0., 0.],\n",
    "       [0., 1., 1., 1., 1., 0.],\n",
    "       [0., 1., 1., 1., 1., 0.],\n",
    "       [0., 1., 1., 1., 1., 0.],\n",
    "       [0., 1., 1., 1., 1., 0.],\n",
    "       [0., 0., 0., 0., 0., 0.]])"
   ]
  },
  {
   "cell_type": "markdown",
   "id": "4aac8d55-d127-4500-9feb-6df841a748bb",
   "metadata": {
    "jupyter": {
     "outputs_hidden": false
    }
   },
   "source": [
    "Wydrukuj wynik do konsoli.\n",
    "Wskazówka: Użyj funkcji `np.pad()`."
   ]
  },
  {
   "cell_type": "markdown",
   "id": "680e2c16-55a2-4d66-ac25-273805d08305",
   "metadata": {},
   "source": [
    "### Miejsce na rozwiązanie"
   ]
  },
  {
   "cell_type": "code",
   "execution_count": 26,
   "id": "386fe85e-e968-414c-96a5-fc8d24194ef7",
   "metadata": {},
   "outputs": [
    {
     "name": "stdout",
     "output_type": "stream",
     "text": [
      "[[0. 0. 0. 0. 0. 0.]\n",
      " [0. 1. 1. 1. 1. 0.]\n",
      " [0. 1. 1. 1. 1. 0.]\n",
      " [0. 1. 1. 1. 1. 0.]\n",
      " [0. 1. 1. 1. 1. 0.]\n",
      " [0. 0. 0. 0. 0. 0.]]\n"
     ]
    }
   ],
   "source": [
    "B = np.pad(A,1)\n",
    "print(B)"
   ]
  },
  {
   "cell_type": "markdown",
   "id": "c7aaa8e7e4c97ba6",
   "metadata": {},
   "source": [
    "## Ćwiczenie 5"
   ]
  },
  {
   "cell_type": "markdown",
   "id": "8dce13cd0a5c0806",
   "metadata": {},
   "source": [
    "Następującą tablicę numpy:"
   ]
  },
  {
   "cell_type": "code",
   "execution_count": 84,
   "id": "ea340b95bff9da8f",
   "metadata": {
    "collapsed": false,
    "jupyter": {
     "outputs_hidden": false
    }
   },
   "outputs": [],
   "source": [
    "A = np.array([[0, 0, 0, 0, 0, 0],\n",
    "       [0, 0, 0, 0, 0, 0],\n",
    "       [0, 0, 0, 0, 0, 0],\n",
    "       [0, 0, 0, 0, 0, 0],\n",
    "       [0, 0, 0, 0, 0, 0],\n",
    "       [0, 0, 0, 0, 0, 0]])"
   ]
  },
  {
   "cell_type": "markdown",
   "id": "5feff15653dc43c6",
   "metadata": {},
   "source": [
    "przekształć w tablicę poniżej:"
   ]
  },
  {
   "cell_type": "code",
   "execution_count": null,
   "id": "7dc20d4f-4d0e-44bf-b93e-850e1527bb49",
   "metadata": {},
   "outputs": [],
   "source": [
    "array([[10,  0, 10,  0, 10,  0],\n",
    "       [ 5,  0,  5,  0,  5,  0],\n",
    "       [10,  0, 10,  0, 10,  0],\n",
    "       [ 5,  0,  5,  0,  5,  0],\n",
    "       [10,  0, 10,  0, 10,  0],\n",
    "       [ 5,  0,  5,  0,  5,  0]])"
   ]
  },
  {
   "cell_type": "markdown",
   "id": "55e9c24b-dddf-42f5-8a40-cc07be914dee",
   "metadata": {},
   "source": [
    "Wydrukuj wynik do konsoli.\n",
    "Wskazówka: Użyj operatora wycinania i przypisz odpowiednie wartości."
   ]
  },
  {
   "cell_type": "markdown",
   "id": "9874dc66f78aa1e9",
   "metadata": {},
   "source": [
    "### Miejsce na rozwiązanie"
   ]
  },
  {
   "cell_type": "code",
   "execution_count": 85,
   "id": "df631c02d83f175b",
   "metadata": {
    "collapsed": false,
    "jupyter": {
     "outputs_hidden": false
    }
   },
   "outputs": [
    {
     "name": "stdout",
     "output_type": "stream",
     "text": [
      "[[10  0 10  0 10  0]\n",
      " [ 5  0  5  0  5  0]\n",
      " [10  0 10  0 10  0]\n",
      " [ 5  0  5  0  5  0]\n",
      " [10  0 10  0 10  0]\n",
      " [ 5  0  5  0  5  0]]\n"
     ]
    }
   ],
   "source": [
    "A[::2,::2] = 10\n",
    "A[1::2,::2] = 5\n",
    "print(A)"
   ]
  },
  {
   "cell_type": "markdown",
   "id": "4696a870de64c274",
   "metadata": {},
   "source": [
    "## Ćwiczenie 6"
   ]
  },
  {
   "cell_type": "markdown",
   "id": "ad4035b3f4aafa77",
   "metadata": {},
   "source": [
    "Korzystając z funkcji poniżej wygeneruj dwie tablice A i B a następnie połącz je w jedną. Wynik wydrukuj w konsoli."
   ]
  },
  {
   "cell_type": "code",
   "execution_count": 27,
   "id": "42190a883164f91e",
   "metadata": {
    "collapsed": false,
    "jupyter": {
     "outputs_hidden": false
    }
   },
   "outputs": [],
   "source": [
    "A = np.arange(12).reshape(-1, 4)\n",
    "B = np.array([[4, 3, 7, 2],\n",
    "              [0, 5, 2, 6]])"
   ]
  },
  {
   "cell_type": "markdown",
   "id": "2188e18068d5ef7b",
   "metadata": {},
   "source": [
    "### Miejsce na rozwiązanie"
   ]
  },
  {
   "cell_type": "code",
   "execution_count": 34,
   "id": "c43193199123b1bc",
   "metadata": {
    "collapsed": false,
    "jupyter": {
     "outputs_hidden": false
    }
   },
   "outputs": [
    {
     "name": "stdout",
     "output_type": "stream",
     "text": [
      "[[ 0  1  2  3]\n",
      " [ 4  5  6  7]\n",
      " [ 8  9 10 11]]\n",
      "[[4 3 7 2]\n",
      " [0 5 2 6]]\n",
      "[[ 0  1  2  3]\n",
      " [ 4  5  6  7]\n",
      " [ 8  9 10 11]\n",
      " [ 4  3  7  2]\n",
      " [ 0  5  2  6]]\n"
     ]
    }
   ],
   "source": [
    "print(A)\n",
    "print(B)\n",
    "C = np.concatenate((A,B), 0) \n",
    "print(C)"
   ]
  },
  {
   "cell_type": "markdown",
   "id": "496629947ea6550b",
   "metadata": {},
   "source": [
    "## Ćwiczenie 7"
   ]
  },
  {
   "cell_type": "markdown",
   "id": "63acecf9dbe22f9f",
   "metadata": {},
   "source": [
    "Z podanych tablic A i B poniżej, wyodrębnij wspólne elementy (przecięcie) tablic. Wydrukuj wynik do konsoli."
   ]
  },
  {
   "cell_type": "code",
   "execution_count": null,
   "id": "f200d9ee-4132-4ceb-8972-acdb6e9e61ba",
   "metadata": {},
   "outputs": [],
   "source": [
    "A = np.arange(8).reshape(-1, 4)\n",
    "B = np.array([[9, 10, 11, 3],\n",
    "              [2, 8, 0, 9]]) "
   ]
  },
  {
   "cell_type": "markdown",
   "id": "887c6f67-458e-4e4f-aa1a-e453ba686bb5",
   "metadata": {},
   "source": [
    "Wskazówka: Użyj funkcji `np.intersect1d()`."
   ]
  },
  {
   "cell_type": "markdown",
   "id": "c50bf63837c41c39",
   "metadata": {},
   "source": [
    "### Miejsce na rozwiązanie"
   ]
  },
  {
   "cell_type": "code",
   "execution_count": 35,
   "id": "a6751ad991d4a54d",
   "metadata": {
    "collapsed": false,
    "jupyter": {
     "outputs_hidden": false
    }
   },
   "outputs": [
    {
     "name": "stdout",
     "output_type": "stream",
     "text": [
      "[0 2 3 4 5 6 7]\n"
     ]
    }
   ],
   "source": [
    "C = np.intersect1d(A,B)\n",
    "print(C)"
   ]
  },
  {
   "cell_type": "markdown",
   "id": "4a65028c892c4bc8",
   "metadata": {},
   "source": [
    "## Ćwiczenie 8"
   ]
  },
  {
   "cell_type": "markdown",
   "id": "80df71baa84113a",
   "metadata": {},
   "source": [
    "Podano następującą tablicę numpy A. Znajdź unikalne wartości tej tablicy. Wydrukuj wynik do konsoli."
   ]
  },
  {
   "cell_type": "code",
   "execution_count": 36,
   "id": "818f039e76804759",
   "metadata": {
    "collapsed": false,
    "jupyter": {
     "outputs_hidden": false
    }
   },
   "outputs": [],
   "source": [
    "A = np.array([[5, 1, 2, 1, 2],\n",
    "              [9, 1, 9, 7, 5],\n",
    "              [4, 1, 5, 7, 9]])"
   ]
  },
  {
   "cell_type": "markdown",
   "id": "c9ab028cfaf6f82c",
   "metadata": {},
   "source": [
    "### Miejsce na rozwiązanie"
   ]
  },
  {
   "cell_type": "code",
   "execution_count": 37,
   "id": "a8efd404457f5ff1",
   "metadata": {
    "collapsed": false,
    "jupyter": {
     "outputs_hidden": false
    }
   },
   "outputs": [
    {
     "name": "stdout",
     "output_type": "stream",
     "text": [
      "[1 2 4 5 7 9]\n"
     ]
    }
   ],
   "source": [
    "X = np.unique(A)\n",
    "print(X)"
   ]
  },
  {
   "cell_type": "markdown",
   "id": "e6aedb4b8e5851c",
   "metadata": {},
   "source": [
    "## Ćwiczenie 9"
   ]
  },
  {
   "cell_type": "markdown",
   "id": "b113e774227042b9",
   "metadata": {},
   "source": [
    "Podana jest poniższa tablica:"
   ]
  },
  {
   "cell_type": "code",
   "execution_count": 38,
   "id": "8754ed46-216f-4b01-a0fd-e18b7feb40b6",
   "metadata": {},
   "outputs": [],
   "source": [
    "A = np.array([[0.4, 0.3, 0.3],\n",
    "              [0.1, 0.1, 0.8],\n",
    "              [0.2, 0.5, 0.3]])"
   ]
  },
  {
   "cell_type": "markdown",
   "id": "16519ca1-c7ba-42af-98a9-868a6d793b2d",
   "metadata": {},
   "source": [
    "Zwróć indeksy z maksymalnymi wartościami dla danego wiersza. Wydrukuj wynik do konsoli."
   ]
  },
  {
   "cell_type": "markdown",
   "id": "ed4ff96f2ba0cd47",
   "metadata": {},
   "source": [
    "### Miejsce na rozwiązanie"
   ]
  },
  {
   "cell_type": "code",
   "execution_count": 40,
   "id": "c49ce0bf5dfb2cfe",
   "metadata": {
    "collapsed": false,
    "jupyter": {
     "outputs_hidden": false
    }
   },
   "outputs": [
    {
     "name": "stdout",
     "output_type": "stream",
     "text": [
      "[0.4 0.8 0.5]\n"
     ]
    }
   ],
   "source": [
    "X = A.max(1)\n",
    "print(X)"
   ]
  },
  {
   "cell_type": "markdown",
   "id": "558a184b94674131",
   "metadata": {},
   "source": [
    "## Ćwiczenie 10"
   ]
  },
  {
   "cell_type": "markdown",
   "id": "1587384ae60a6902",
   "metadata": {},
   "source": [
    "Posortuj tablicę A:\n",
    "- według wiersza (rosnąco),\n",
    "- według kolumny (rosnąco)."
   ]
  },
  {
   "cell_type": "code",
   "execution_count": 71,
   "id": "a87fcc16-a6d0-48d2-a100-979214b413a2",
   "metadata": {},
   "outputs": [],
   "source": [
    "A = np.array([[4.99, 3.49, 9.99],\n",
    "              [1.99, 9.99, 4.99],\n",
    "              [14.99, 2.39, 7.29]])"
   ]
  },
  {
   "cell_type": "markdown",
   "id": "71b7d663-b59a-43a7-b6e8-c10e8726ef47",
   "metadata": {},
   "source": [
    "Wydrukuj wynik do konsoli."
   ]
  },
  {
   "cell_type": "markdown",
   "id": "6822b2429f1d3596",
   "metadata": {},
   "source": [
    "### Miejsce na rozwiązanie"
   ]
  },
  {
   "cell_type": "code",
   "execution_count": 72,
   "id": "8f275b0802072d5f",
   "metadata": {
    "collapsed": false,
    "jupyter": {
     "outputs_hidden": false
    }
   },
   "outputs": [
    {
     "name": "stdout",
     "output_type": "stream",
     "text": [
      "[[ 3.49  4.99  9.99]\n",
      " [ 1.99  4.99  9.99]\n",
      " [ 2.39  7.29 14.99]]\n",
      "----------------------------------------\n",
      "[[ 1.99  2.39  4.99]\n",
      " [ 4.99  3.49  7.29]\n",
      " [14.99  9.99  9.99]]\n"
     ]
    }
   ],
   "source": [
    "X1 = np.sort(A, axis=1)\n",
    "X2 = np.sort(A, axis=0)\n",
    "print(X1)\n",
    "print('----------------------------------------')\n",
    "print(X2)"
   ]
  },
  {
   "cell_type": "markdown",
   "id": "a65c4f43efa5b4eb",
   "metadata": {},
   "source": [
    "## Ćwiczenie 11"
   ]
  },
  {
   "cell_type": "markdown",
   "id": "a90c7cd47543fcd4",
   "metadata": {},
   "source": [
    "Wyodrębnij wszystkie elementy tablicy A o wartości większej niż 8. Wydrukuj wynik do konsoli."
   ]
  },
  {
   "cell_type": "code",
   "execution_count": null,
   "id": "cd524adb-01f5-46cf-95f1-28226cd941e3",
   "metadata": {},
   "outputs": [],
   "source": [
    "A = np.array([[4.99, 3.49, 9.99],\n",
    "              [1.99, 9.99, 4.99],\n",
    "              [14.99, 2.39, 7.29]])"
   ]
  },
  {
   "cell_type": "markdown",
   "id": "4f01a33e24ddee6a",
   "metadata": {},
   "source": [
    "### Miejsce na rozwiązanie"
   ]
  },
  {
   "cell_type": "code",
   "execution_count": 73,
   "id": "cfffa727d292ef87",
   "metadata": {
    "collapsed": false,
    "jupyter": {
     "outputs_hidden": false
    }
   },
   "outputs": [
    {
     "name": "stdout",
     "output_type": "stream",
     "text": [
      "[ 9.99  9.99 14.99]\n"
     ]
    },
    {
     "data": {
      "text/plain": [
       "array([[ 4.99,  3.49,  9.99],\n",
       "       [ 1.99,  9.99,  4.99],\n",
       "       [14.99,  2.39,  7.29]])"
      ]
     },
     "execution_count": 73,
     "metadata": {},
     "output_type": "execute_result"
    }
   ],
   "source": [
    "X = A > 8\n",
    "print(A[X])\n"
   ]
  },
  {
   "cell_type": "markdown",
   "id": "37a0ec03766aff49",
   "metadata": {},
   "source": [
    "## Ćwiczenie 12"
   ]
  },
  {
   "cell_type": "markdown",
   "id": "d063ec45571af8c8",
   "metadata": {},
   "source": [
    "Podana jest następująca tablica A. Zastąp elementy większe niż 10 wartością stałą 10."
   ]
  },
  {
   "cell_type": "code",
   "execution_count": 77,
   "id": "09dc772a-5655-4ea4-9d03-f38d110f6bf8",
   "metadata": {},
   "outputs": [],
   "source": [
    "A = np.array([[4.99, 3.49, 9.99],\n",
    "              [1.99, 9.99, 14.99],\n",
    "              [14.99, 2.39, 7.29]])"
   ]
  },
  {
   "cell_type": "markdown",
   "id": "cd6e46ca-6b58-44a9-8b05-d9f2b72f2b26",
   "metadata": {},
   "source": [
    "Wydrukuj wynik do konsoli."
   ]
  },
  {
   "cell_type": "markdown",
   "id": "e4f7eb8f15c64d19",
   "metadata": {},
   "source": [
    "### Miejsce na rozwiązanie"
   ]
  },
  {
   "cell_type": "code",
   "execution_count": 78,
   "id": "1f95b906c095b032",
   "metadata": {
    "collapsed": false,
    "jupyter": {
     "outputs_hidden": false
    }
   },
   "outputs": [
    {
     "name": "stdout",
     "output_type": "stream",
     "text": [
      "[[ 4.99  3.49  9.99]\n",
      " [ 1.99  9.99 10.  ]\n",
      " [10.    2.39  7.29]]\n"
     ]
    }
   ],
   "source": [
    "X = A > 10\n",
    "A[X] = 10.\n",
    "print(A)"
   ]
  },
  {
   "cell_type": "markdown",
   "id": "f601b826139368d2",
   "metadata": {},
   "source": [
    "## Ćwiczenie 13"
   ]
  },
  {
   "cell_type": "markdown",
   "id": "2fca3b6e6f0e4c",
   "metadata": {},
   "source": [
    "Przedstaw poniższą dwuwymiarową tablicę A jako 'spłaszczoną' jednowymiarową tablicę. Wydrukuj wynik do konsoli."
   ]
  },
  {
   "cell_type": "code",
   "execution_count": 80,
   "id": "d91b1f888fad358e",
   "metadata": {
    "collapsed": false,
    "jupyter": {
     "outputs_hidden": false
    }
   },
   "outputs": [],
   "source": [
    "A = np.array([[4.99, 3.49, 9.99],\n",
    "              [1.99, 9.99, 14.99],\n",
    "              [14.99, 2.39, 7.29]])"
   ]
  },
  {
   "cell_type": "markdown",
   "id": "94358c8389c8f318",
   "metadata": {},
   "source": [
    "Wskazówka: Użyj funkcji `np.ravel()`."
   ]
  },
  {
   "cell_type": "markdown",
   "id": "9c95299606556ee",
   "metadata": {},
   "source": [
    "### Miejsce na rozwiązanie"
   ]
  },
  {
   "cell_type": "code",
   "execution_count": 82,
   "id": "1848a4b2bd5a32d6",
   "metadata": {
    "collapsed": false,
    "jupyter": {
     "outputs_hidden": false
    }
   },
   "outputs": [
    {
     "name": "stdout",
     "output_type": "stream",
     "text": [
      "[ 4.99  3.49  9.99  1.99  9.99 14.99 14.99  2.39  7.29]\n",
      "[ 4.99  3.49  9.99  1.99  9.99 14.99 14.99  2.39  7.29]\n"
     ]
    }
   ],
   "source": [
    "A = A.reshape(-1)\n",
    "print(A)\n",
    "A = np.ravel(A)\n",
    "print(A)"
   ]
  },
  {
   "cell_type": "markdown",
   "id": "4f4413af3ceea30e",
   "metadata": {},
   "source": [
    "## Ćwiczenie 14"
   ]
  },
  {
   "cell_type": "markdown",
   "id": "f10932c903cdb601",
   "metadata": {},
   "source": [
    "Zbuduj tablicę o tym samym kształcie i typie danych co tablica A i wypełnij ją stałą wartością 0.0. Wydrukuj wynik do konsoli."
   ]
  },
  {
   "cell_type": "code",
   "execution_count": 51,
   "id": "27348f68dff138a5",
   "metadata": {
    "collapsed": false,
    "jupyter": {
     "outputs_hidden": false
    }
   },
   "outputs": [],
   "source": [
    "A = np.array([[4.99, 3.49, 9.99],\n",
    "              [1.99, 9.99, 14.99],\n",
    "              [14.99, 2.39, 7.29]])"
   ]
  },
  {
   "cell_type": "markdown",
   "id": "cde060cc-186b-4aa5-aabf-a26d50f331f7",
   "metadata": {},
   "source": [
    "Wskazówka: Użyj funkcji `np.zeros_like()`."
   ]
  },
  {
   "cell_type": "markdown",
   "id": "5f985ba5960f0f7",
   "metadata": {},
   "source": [
    "### Miejsce na rozwiązanie"
   ]
  },
  {
   "cell_type": "code",
   "execution_count": 52,
   "id": "bd78cd7fefde843f",
   "metadata": {
    "collapsed": false,
    "jupyter": {
     "outputs_hidden": false
    }
   },
   "outputs": [
    {
     "name": "stdout",
     "output_type": "stream",
     "text": [
      "[[ 4.99  3.49  9.99]\n",
      " [ 1.99  9.99 14.99]\n",
      " [14.99  2.39  7.29]]\n",
      "[[0. 0. 0.]\n",
      " [0. 0. 0.]\n",
      " [0. 0. 0.]]\n"
     ]
    }
   ],
   "source": [
    "B = np.zeros_like(A)\n",
    "print(A)\n",
    "print(B)"
   ]
  },
  {
   "cell_type": "markdown",
   "id": "1aa2e6c120c07d32",
   "metadata": {},
   "source": [
    "## Ćwiczenie 15"
   ]
  },
  {
   "cell_type": "markdown",
   "id": "b06564579f9c220",
   "metadata": {},
   "source": [
    "Zbuduj tablicę o tym samym kształcie i typie danych co tablica A i wypełnij ją stałą wartością 19.99. Wydrukuj wynik do konsoli."
   ]
  },
  {
   "cell_type": "code",
   "execution_count": 53,
   "id": "6ddf639bfa67b08a",
   "metadata": {
    "collapsed": false,
    "jupyter": {
     "outputs_hidden": false
    }
   },
   "outputs": [],
   "source": [
    "A = np.array([[4.99, 3.49, 9.99],\n",
    "              [1.99, 9.99, 14.99],\n",
    "              [14.99, 2.39, 7.29]])"
   ]
  },
  {
   "cell_type": "markdown",
   "id": "186dde63-beb8-4f99-a34d-7071746329cb",
   "metadata": {},
   "source": [
    "Wskazówka: Użyj funkcji `np.full_like()`."
   ]
  },
  {
   "cell_type": "markdown",
   "id": "431974c6eaa4d05f",
   "metadata": {},
   "source": [
    "### Miejsce na rozwiązanie"
   ]
  },
  {
   "cell_type": "code",
   "execution_count": 54,
   "id": "340f1030b889b674",
   "metadata": {
    "collapsed": false,
    "jupyter": {
     "outputs_hidden": false
    }
   },
   "outputs": [
    {
     "name": "stdout",
     "output_type": "stream",
     "text": [
      "[[ 4.99  3.49  9.99]\n",
      " [ 1.99  9.99 14.99]\n",
      " [14.99  2.39  7.29]]\n",
      "[[19.99 19.99 19.99]\n",
      " [19.99 19.99 19.99]\n",
      " [19.99 19.99 19.99]]\n"
     ]
    }
   ],
   "source": [
    "B = np.full_like(A,19.99)\n",
    "print(A)\n",
    "print(B)"
   ]
  },
  {
   "cell_type": "markdown",
   "id": "18a559d13def9abe",
   "metadata": {},
   "source": [
    "## Ćwiczenie 16"
   ]
  },
  {
   "cell_type": "markdown",
   "id": "c5ba33bf568209b5",
   "metadata": {},
   "source": [
    "Zbuduj dwuwymiarową tablicę - macierz dolna trójkątna. Wydrukuj wynik do konsoli."
   ]
  },
  {
   "cell_type": "markdown",
   "id": "d68d0440d6819978",
   "metadata": {},
   "source": [
    "### Miejsce na rozwiązanie"
   ]
  },
  {
   "cell_type": "code",
   "execution_count": 86,
   "id": "1c5317d5655b5407",
   "metadata": {
    "collapsed": false,
    "jupyter": {
     "outputs_hidden": false
    }
   },
   "outputs": [
    {
     "name": "stdout",
     "output_type": "stream",
     "text": [
      "[[1. 0. 0. 0. 0.]\n",
      " [1. 1. 0. 0. 0.]\n",
      " [1. 1. 1. 0. 0.]\n",
      " [1. 1. 1. 1. 0.]\n",
      " [1. 1. 1. 1. 1.]]\n"
     ]
    }
   ],
   "source": [
    "A = np.tril(np.ones((5,5)))\n",
    "print(A)"
   ]
  },
  {
   "cell_type": "markdown",
   "id": "4a5de8f98db42f44",
   "metadata": {},
   "source": [
    "## Ćwiczenie 17"
   ]
  },
  {
   "cell_type": "markdown",
   "id": "8c3a8c0260f9bc79",
   "metadata": {},
   "source": [
    "Utwórz dowolną trójwymiarową tablicę o kształcie (2, 3, 4) i przypisz do zmiennej PBS. A następnie zapisz ją do pliku `array.npy`"
   ]
  },
  {
   "cell_type": "markdown",
   "id": "677ed929a5e95212",
   "metadata": {},
   "source": [
    "### Miejsce na rozwiązanie"
   ]
  },
  {
   "cell_type": "code",
   "execution_count": 57,
   "id": "7ccc873cbc9c86b1",
   "metadata": {
    "collapsed": false,
    "jupyter": {
     "outputs_hidden": false
    }
   },
   "outputs": [
    {
     "name": "stdout",
     "output_type": "stream",
     "text": [
      "[[[0. 0. 0. 0.]\n",
      "  [0. 0. 0. 0.]\n",
      "  [0. 0. 0. 0.]]\n",
      "\n",
      " [[0. 0. 0. 0.]\n",
      "  [0. 0. 0. 0.]\n",
      "  [0. 0. 0. 0.]]]\n"
     ]
    }
   ],
   "source": [
    "PBS = np.zeros((2,3,4))\n",
    "print(PBS)\n",
    "np.save('3D', PBS)"
   ]
  },
  {
   "cell_type": "markdown",
   "id": "f8ec7e1e821942d1",
   "metadata": {},
   "source": [
    "## Ćwiczenie 18"
   ]
  },
  {
   "cell_type": "markdown",
   "id": "b062d3893e893139",
   "metadata": {},
   "source": [
    "Wygeneruj dwuwymiarową tablicę o kształcie (200, 300) wypełnioną losowymi wartościami od 0 do 255 (włącznie) o typie danych np.uint8 i przypisz do zmiennej image."
   ]
  },
  {
   "cell_type": "markdown",
   "id": "2480a795b6b8552",
   "metadata": {},
   "source": [
    "### Miejsce na rozwiązanie"
   ]
  },
  {
   "cell_type": "code",
   "execution_count": 87,
   "id": "94213de8759ca8ed",
   "metadata": {
    "collapsed": false,
    "jupyter": {
     "outputs_hidden": false
    }
   },
   "outputs": [
    {
     "name": "stdout",
     "output_type": "stream",
     "text": [
      "[[ 23 217 255 ... 136 132 112]\n",
      " [ 21 136 134 ...  82 207 158]\n",
      " [111  30  31 ...   5 235  34]\n",
      " ...\n",
      " [185 178 229 ... 193 196 136]\n",
      " [  2 145 202 ... 117   3 255]\n",
      " [ 99  40 198 ...  84 174 214]]\n"
     ]
    }
   ],
   "source": [
    "X = np.random.randint(0,256, size=(200,300),dtype=np.uint8)\n",
    "image = X\n",
    "print(image)"
   ]
  },
  {
   "cell_type": "markdown",
   "id": "ef336bd5-7615-4cd6-a9fa-4e32e84cc644",
   "metadata": {},
   "source": [
    "## Ćwiczenie 19"
   ]
  },
  {
   "cell_type": "markdown",
   "id": "5d1bb045-988b-4c37-b53c-64235614fefe",
   "metadata": {},
   "source": [
    "Posortuj tablicę image wzdłuż wiersza rosnąco i przypisz do zmiennej image_sorted."
   ]
  },
  {
   "cell_type": "markdown",
   "id": "1f1f2114-f66f-4f02-87d5-a755a5f3d6a6",
   "metadata": {},
   "source": [
    "### Miejsce na rozwiązanie"
   ]
  },
  {
   "cell_type": "code",
   "execution_count": 88,
   "id": "8837839d-dd30-4b5c-ad3c-3666b934640f",
   "metadata": {},
   "outputs": [
    {
     "name": "stdout",
     "output_type": "stream",
     "text": [
      "[[  0   2   2 ... 254 255 255]\n",
      " [  2   2   3 ... 250 252 255]\n",
      " [  0   0   0 ... 254 254 255]\n",
      " ...\n",
      " [  2   2   4 ... 254 254 255]\n",
      " [  1   2   3 ... 253 253 255]\n",
      " [  0   0   0 ... 250 251 254]]\n"
     ]
    }
   ],
   "source": [
    "image_sorted = np.sort(image, axis=1)\n",
    "print(image_sorted)"
   ]
  },
  {
   "cell_type": "markdown",
   "id": "91d03bac-53a6-4f23-8d19-0a3fafd5e441",
   "metadata": {},
   "source": [
    "## Ćwiczenie 20"
   ]
  },
  {
   "cell_type": "markdown",
   "id": "626a51a9-adf7-4d38-9c01-086d65a55dc3",
   "metadata": {},
   "source": [
    "Wygeneruj dwuwymiarową tablicę o kształcie (200, 300) wypełnioną losowymi wartościami od 0 do 255 (włącznie) o typie danych np.float32 i przypisz do zmiennej. Następnie zapisz tablicę do pliku binarnego o nazwie `array_20.npy`, załaduj ten plik z powrotem do innej zmiennej i wydrukuj jej zawartość do konsoli."
   ]
  },
  {
   "cell_type": "markdown",
   "id": "9ac3d08e-baf7-4b15-b2b8-615afb95110d",
   "metadata": {},
   "source": [
    "Wskazówka: Użyj funkcji `np.save()` oraz `np.load()`."
   ]
  },
  {
   "cell_type": "markdown",
   "id": "2d54faf0-96c1-4bf6-8b4b-76a35d7d2969",
   "metadata": {},
   "source": [
    "### Miejsce na rozwiązanie"
   ]
  },
  {
   "cell_type": "code",
   "execution_count": 68,
   "id": "40bab3ce-9a07-417e-8896-b859298eb678",
   "metadata": {},
   "outputs": [
    {
     "name": "stdout",
     "output_type": "stream",
     "text": [
      "[[132.48492   239.33363    38.086037  ... 142.52261    85.3831\n",
      "  102.6966   ]\n",
      " [213.66263    35.12555   168.22473   ... 250.74088   225.59572\n",
      "  221.11473  ]\n",
      " [ 35.64223    50.62377   135.33153   ...  16.774231  119.25204\n",
      "   43.779663 ]\n",
      " ...\n",
      " [158.38591    73.5744      5.9975047 ...  31.356606  136.1045\n",
      "   48.44319  ]\n",
      " [192.1205    106.38731    36.96973   ... 248.78917   215.71877\n",
      "  112.3413   ]\n",
      " [ 65.295906  220.8804    109.43395   ... 105.36555    35.009964\n",
      "  168.91147  ]]\n"
     ]
    }
   ],
   "source": [
    "X = np.random.rand(200,300).astype(np.float32) * 255\n",
    "np.save('array_20',X)\n",
    "A = np.load('array_20.npy')\n",
    "print(A)"
   ]
  },
  {
   "cell_type": "markdown",
   "id": "adc5a6a6-ee6e-45e0-ba88-3e71be1454fe",
   "metadata": {
    "tags": []
   },
   "source": [
    "# Wnioski i sugestie do ćwiczeń"
   ]
  },
  {
   "cell_type": "markdown",
   "id": "36ddd5dc-5be9-4e56-8e85-5cfdabeff398",
   "metadata": {},
   "source": []
  }
 ],
 "metadata": {
  "kernelspec": {
   "display_name": "Python 3 (ipykernel)",
   "language": "python",
   "name": "python3"
  },
  "language_info": {
   "codemirror_mode": {
    "name": "ipython",
    "version": 3
   },
   "file_extension": ".py",
   "mimetype": "text/x-python",
   "name": "python",
   "nbconvert_exporter": "python",
   "pygments_lexer": "ipython3",
   "version": "3.11.6"
  }
 },
 "nbformat": 4,
 "nbformat_minor": 5
}
