{
 "cells": [
  {
   "cell_type": "code",
   "execution_count": 3,
   "id": "8ac40dced1d1fc4c",
   "metadata": {
    "ExecuteTime": {
     "end_time": "2023-11-02T17:30:20.489097100Z",
     "start_time": "2023-11-02T17:30:20.285766500Z"
    },
    "collapsed": false,
    "jupyter": {
     "outputs_hidden": false
    }
   },
   "outputs": [],
   "source": [
    "import numpy as np"
   ]
  },
  {
   "cell_type": "markdown",
   "id": "a3e8dddb-4399-46c8-a0bd-982041d315f6",
   "metadata": {},
   "source": [
    "## Dane studenta"
   ]
  },
  {
   "cell_type": "markdown",
   "id": "092677a5-52e1-4617-92b5-a5c1cb0855cf",
   "metadata": {},
   "source": [
    "Cezary Tytko 118873"
   ]
  },
  {
   "cell_type": "markdown",
   "id": "24ab3b2fb11230a4",
   "metadata": {},
   "source": [
    "# Zadania do samodzielnego wykonania"
   ]
  },
  {
   "cell_type": "markdown",
   "id": "4cee95e32bcbd29e",
   "metadata": {},
   "source": [
    "## Ćwiczenie 1"
   ]
  },
  {
   "cell_type": "markdown",
   "id": "92e7f08549810f76",
   "metadata": {},
   "source": [
    "Poniżej podano dwie tablice A i B:\n",
    "Połącz te tablice w następujący sposób:"
   ]
  },
  {
   "cell_type": "code",
   "execution_count": 2,
   "id": "0d31618c-dbe5-4154-be14-f6e04a718a3e",
   "metadata": {
    "collapsed": false,
    "jupyter": {
     "outputs_hidden": false
    }
   },
   "outputs": [],
   "source": [
    "A = np.array([[3, 4, 5],\n",
    "[8, 3, 1]])\n",
    "B = np.array([[0, 5, 2],\n",
    "[4, 2, 1]])"
   ]
  },
  {
   "cell_type": "markdown",
   "id": "aacae5bc1a266c",
   "metadata": {},
   "source": [
    "### Miejsce na rozwiązanie"
   ]
  },
  {
   "cell_type": "code",
   "execution_count": 8,
   "id": "9cd623f7ba7103cf",
   "metadata": {
    "collapsed": false,
    "jupyter": {
     "outputs_hidden": false
    }
   },
   "outputs": [
    {
     "name": "stdout",
     "output_type": "stream",
     "text": [
      "[[3 4 5]\n",
      " [8 3 1]\n",
      " [0 5 2]\n",
      " [4 2 1]]\n"
     ]
    }
   ],
   "source": [
    "C = np.concatenate((A,B),axis=0)\n",
    "print(C)"
   ]
  },
  {
   "cell_type": "markdown",
   "id": "75b9f1c0184964ca",
   "metadata": {},
   "source": [
    "## Ćwiczenie 2"
   ]
  },
  {
   "cell_type": "markdown",
   "id": "f4f5bee50e8ab07f",
   "metadata": {},
   "source": [
    "Podana jest poniższa tablica zawierająca dane data oraz tablica zawierającą klasę docelową target\n",
    "dla danego wiersza:\n",
    "Połącz te tablice w jedną tak jak pokazano poniżej:\n",
    "array([[4.3, 4.2, 0. ], [3.1, 3.6, 1. ]])"
   ]
  },
  {
   "cell_type": "code",
   "execution_count": 9,
   "id": "79de92ce7d7b06c0",
   "metadata": {
    "collapsed": false,
    "jupyter": {
     "outputs_hidden": false
    }
   },
   "outputs": [
    {
     "name": "stdout",
     "output_type": "stream",
     "text": [
      "[[4.3 4.2 0. ]\n",
      " [3.1 3.6 1. ]]\n"
     ]
    }
   ],
   "source": [
    "data = np.array([[4.3, 4.2],\n",
    "[3.1, 3.6]])\n",
    "target = np.array([[0],\n",
    "[1]])\n",
    "\n",
    "result_array = np.column_stack((data, target))\n",
    "\n",
    "print(result_array)"
   ]
  },
  {
   "cell_type": "markdown",
   "id": "f10ec758558f2c23",
   "metadata": {},
   "source": [
    "## Ćwiczenie 3"
   ]
  },
  {
   "cell_type": "markdown",
   "id": "3aae1fb787546bb9",
   "metadata": {},
   "source": [
    "Podane są następujące trzy jednowymiarowe tablice:\n",
    "Wydrukuj wynik do konsoli.\n",
    "Oczekiwany wynik: [[1.6 0.4 1.4] [0.9 1.3 0.3] [2.2 3.2 1.2]]\n",
    "Przekształć każdą z tych tablic w kolumnę i połącz je w jedną dużą tablicę. Wydrukuj wynik do\n",
    "konsoli. Wskazówka: Użyj funkcji np.column_stack()"
   ]
  },
  {
   "cell_type": "markdown",
   "id": "384c0eebd1804b7f",
   "metadata": {},
   "source": [
    "### Miejsce na rozwiązanie"
   ]
  },
  {
   "cell_type": "code",
   "execution_count": 10,
   "id": "255196fe0769a9f5",
   "metadata": {
    "collapsed": false,
    "jupyter": {
     "outputs_hidden": false
    }
   },
   "outputs": [
    {
     "name": "stdout",
     "output_type": "stream",
     "text": [
      "[[1.6 0.4 1.4]\n",
      " [0.9 1.3 0.3]\n",
      " [2.2 3.2 1.2]]\n"
     ]
    }
   ],
   "source": [
    "feature1 = np.array([1.6, 0.9, 2.2])\n",
    "feature2 = np.array([0.4, 1.3, 3.2])\n",
    "feature3 = np.array([1.4, 0.3, 1.2])\n",
    "\n",
    "column_feature1 = feature1[:, np.newaxis]\n",
    "column_feature2 = feature2[:, np.newaxis]\n",
    "column_feature3 = feature3[:, np.newaxis]\n",
    "\n",
    "result_array = np.column_stack((column_feature1, column_feature2, column_feature3))\n",
    "\n",
    "# Wydrukuj wynik\n",
    "print(result_array)"
   ]
  },
  {
   "cell_type": "markdown",
   "id": "bbde43ebb3c19b15",
   "metadata": {},
   "source": [
    "## Ćwiczenie 4"
   ]
  },
  {
   "cell_type": "markdown",
   "id": "ce5be05f2dcdaa0a",
   "metadata": {},
   "source": [
    "Podana jest następująca tablica numpy A:\n",
    "Podziel tablicę na trzy części tak, aby dwie pierwsze kolumny utworzyły tablicę A1, cztery kolejne\n",
    "tablicę A2 i ostatnie dwie tablicę A3.\n",
    "Wydrukuj wynik do konsoli. Wskazówka: Użyj funkcji np.split()"
   ]
  },
  {
   "cell_type": "code",
   "execution_count": 12,
   "id": "3537c745-c117-408d-84f4-02781132d41e",
   "metadata": {},
   "outputs": [
    {
     "name": "stdout",
     "output_type": "stream",
     "text": [
      "[[0 0 4 6 2 4 1 1]\n",
      " [0 0 6 2 2 4 1 1]\n",
      " [0 0 1 3 5 5 1 1]\n",
      " [0 0 3 1 5 4 1 1]\n",
      " [0 0 2 6 1 3 1 1]]\n",
      "[[0 0 4 6 2 4 1 1]\n",
      " [0 1 1 1 1 1 1 1]\n",
      " [0 1 1 1 1 1 1 1]\n",
      " [0 1 1 1 1 1 1 1]\n",
      " [0 0 2 6 1 3 1 1]]\n",
      "[[0. 0. 0. 0. 0. 0. 0. 0.]\n",
      " [0. 1. 1. 1. 1. 1. 1. 0.]\n",
      " [0. 1. 1. 1. 1. 1. 1. 0.]\n",
      " [0. 1. 1. 1. 1. 1. 1. 0.]\n",
      " [0. 0. 0. 0. 0. 0. 0. 0.]]\n",
      "Tablica A1:\n",
      "[[0. 0.]\n",
      " [0. 1.]\n",
      " [0. 1.]\n",
      " [0. 1.]\n",
      " [0. 0.]]\n",
      "\n",
      "Tablica A2:\n",
      "[[0. 0. 0. 0.]\n",
      " [1. 1. 1. 1.]\n",
      " [1. 1. 1. 1.]\n",
      " [1. 1. 1. 1.]\n",
      " [0. 0. 0. 0.]]\n",
      "\n",
      "Tablica A3:\n",
      "[[0. 0.]\n",
      " [1. 0.]\n",
      " [1. 0.]\n",
      " [1. 0.]\n",
      " [0. 0.]]\n"
     ]
    }
   ],
   "source": [
    "np.random.seed(42)\n",
    "A = np.random.randint(low=0, high=7, size=(5, 8))\n",
    "A[:, :2] = 0\n",
    "A[:, -2:] = 1\n",
    "print(A)\n",
    "A[1:-1, 1:-1] = 1\n",
    "print(A)\n",
    "A[:, [0, -1]] = 0\n",
    "A[[0, -1],:] = 0\n",
    "A = A.astype(float)\n",
    "print(A)\n",
    "A1, A2, A3 = np.split(A, [2, 6], axis=1)\n",
    "\n",
    "print(\"Tablica A1:\")\n",
    "print(A1)\n",
    "print(\"\\nTablica A2:\")\n",
    "print(A2)\n",
    "print(\"\\nTablica A3:\")\n",
    "print(A3)"
   ]
  },
  {
   "cell_type": "markdown",
   "id": "c7aaa8e7e4c97ba6",
   "metadata": {},
   "source": [
    "## Ćwiczenie 5"
   ]
  },
  {
   "cell_type": "markdown",
   "id": "8dce13cd0a5c0806",
   "metadata": {},
   "source": [
    "Podana jest następująca tablica numpy A:\n",
    "Oblicz łączną liczbę niezerowych elementów dla tej tablicy. Wydrukuj wynik do konsoli."
   ]
  },
  {
   "cell_type": "code",
   "execution_count": 12,
   "id": "ea340b95bff9da8f",
   "metadata": {
    "collapsed": false,
    "jupyter": {
     "outputs_hidden": false
    }
   },
   "outputs": [
    {
     "name": "stdout",
     "output_type": "stream",
     "text": [
      "Łączna liczba niezerowych elementów w tablicy A: 31\n"
     ]
    }
   ],
   "source": [
    "np.random.seed(42)\n",
    "A = np.random.randint(low=0, high=2, size=(10, 6))\n",
    "\n",
    "nonzero_count = np.count_nonzero(A)\n",
    "\n",
    "print(\"Łączna liczba niezerowych elementów w tablicy A:\", nonzero_count)"
   ]
  },
  {
   "cell_type": "markdown",
   "id": "4696a870de64c274",
   "metadata": {},
   "source": [
    "## Ćwiczenie 6"
   ]
  },
  {
   "cell_type": "markdown",
   "id": "ad4035b3f4aafa77",
   "metadata": {},
   "source": [
    "Podana jest tablica numpy A:\n",
    "Ustaw opcję biblioteki numpy tak, aby wydrukować tablicę z określoną precyzją. Ustaw jego\n",
    "wartość na 4 i wydrukuj tablicę A do konsoli."
   ]
  },
  {
   "cell_type": "code",
   "execution_count": 13,
   "id": "42190a883164f91e",
   "metadata": {
    "collapsed": false,
    "jupyter": {
     "outputs_hidden": false
    }
   },
   "outputs": [
    {
     "name": "stdout",
     "output_type": "stream",
     "text": [
      "Tablica A z precyzją 4:\n",
      "[[ 0.4967 -0.1383  0.6477  1.523 ]\n",
      " [-0.2342 -0.2341  1.5792  0.7674]\n",
      " [-0.4695  0.5426 -0.4634 -0.4657]\n",
      " [ 0.242  -1.9133 -1.7249 -0.5623]\n",
      " [-1.0128  0.3142 -0.908  -1.4123]\n",
      " [ 1.4656 -0.2258  0.0675 -1.4247]\n",
      " [-0.5444  0.1109 -1.151   0.3757]\n",
      " [-0.6006 -0.2917 -0.6017  1.8523]\n",
      " [-0.0135 -1.0577  0.8225 -1.2208]\n",
      " [ 0.2089 -1.9597 -1.3282  0.1969]]\n"
     ]
    }
   ],
   "source": [
    "np.random.seed(42)\n",
    "np.set_printoptions(precision=4)\n",
    "A = np.random.randn(10, 4)\n",
    "\n",
    "print(\"Tablica A z precyzją 4:\")\n",
    "print(A)"
   ]
  },
  {
   "cell_type": "markdown",
   "id": "496629947ea6550b",
   "metadata": {},
   "source": [
    "## Ćwiczenie 7"
   ]
  },
  {
   "cell_type": "markdown",
   "id": "63acecf9dbe22f9f",
   "metadata": {},
   "source": [
    "Podana jest następująca tablica numpy A:\n",
    "Ustaw wartość precyzji na 8 oraz odpowiednią opcję biblioteki numpy tak, aby pominąć notację\n",
    "matematyczną. Wydrukuj tablicę A do konsoli.Wskazówka: Użyj funkcji np.intersect1d()."
   ]
  },
  {
   "cell_type": "code",
   "execution_count": 14,
   "id": "f200d9ee-4132-4ceb-8972-acdb6e9e61ba",
   "metadata": {},
   "outputs": [
    {
     "name": "stdout",
     "output_type": "stream",
     "text": [
      "Tablica A z precyzją 8 i uniknięciem notacji matematycznej:\n",
      "[0.0000012  0.00000017]\n"
     ]
    }
   ],
   "source": [
    "A = np.array([1.2e-6, 1.7e-7])\n",
    "np.set_printoptions(precision=8, suppress=True)\n",
    "\n",
    "print(\"Tablica A z precyzją 8 i uniknięciem notacji matematycznej:\")\n",
    "print(A)"
   ]
  },
  {
   "cell_type": "markdown",
   "id": "4a65028c892c4bc8",
   "metadata": {},
   "source": [
    "## Ćwiczenie 8"
   ]
  },
  {
   "cell_type": "markdown",
   "id": "80df71baa84113a",
   "metadata": {},
   "source": [
    "Podana jest następująca tablica numpy A:\n",
    "Usuń trzecią kolumnę z tablicy A. Resztę tablicy wydrukuj do konsoli."
   ]
  },
  {
   "cell_type": "code",
   "execution_count": 15,
   "id": "818f039e76804759",
   "metadata": {
    "collapsed": false,
    "jupyter": {
     "outputs_hidden": false
    }
   },
   "outputs": [
    {
     "name": "stdout",
     "output_type": "stream",
     "text": [
      "Tablica A bez trzeciej kolumny:\n",
      "[[ 0.49671415 -0.1382643   1.52302986]\n",
      " [-0.23415337 -0.23413696  0.76743473]\n",
      " [-0.46947439  0.54256004 -0.46572975]\n",
      " [ 0.24196227 -1.91328024 -0.56228753]\n",
      " [-1.01283112  0.31424733 -1.4123037 ]\n",
      " [ 1.46564877 -0.2257763  -1.42474819]\n",
      " [-0.54438272  0.11092259  0.37569802]\n",
      " [-0.60063869 -0.29169375  1.85227818]]\n"
     ]
    }
   ],
   "source": [
    "np.random.seed(42)\n",
    "A = np.random.randn(8, 4)\n",
    "A_without_third_column = np.delete(A, 2, axis=1)\n",
    "\n",
    "print(\"Tablica A bez trzeciej kolumny:\")\n",
    "print(A_without_third_column)"
   ]
  },
  {
   "cell_type": "markdown",
   "id": "e6aedb4b8e5851c",
   "metadata": {},
   "source": [
    "## Ćwiczenie 9"
   ]
  },
  {
   "cell_type": "markdown",
   "id": "b113e774227042b9",
   "metadata": {},
   "source": [
    "Dana jest jednowymiarowa tablica v (wektor):\n",
    "Oblicz normę wektora v. Wydrukuj wynik do konsoli."
   ]
  },
  {
   "cell_type": "code",
   "execution_count": 16,
   "id": "8754ed46-216f-4b01-a0fd-e18b7feb40b6",
   "metadata": {},
   "outputs": [
    {
     "name": "stdout",
     "output_type": "stream",
     "text": [
      "Norma wektora v: 5.385164807134504\n"
     ]
    }
   ],
   "source": [
    "v = np.array([3, 4, -2])\n",
    "vector_norm = np.linalg.norm(v)\n",
    "\n",
    "print(\"Norma wektora v:\", vector_norm)"
   ]
  },
  {
   "cell_type": "markdown",
   "id": "558a184b94674131",
   "metadata": {},
   "source": [
    "## Ćwiczenie 10"
   ]
  },
  {
   "cell_type": "markdown",
   "id": "1587384ae60a6902",
   "metadata": {},
   "source": [
    "Podana jest poniższa tablica numpy A:\n",
    "Ustaw opcję biblioteki numpy tak, aby wydrukować 10 elementów brzegowych i następnie wydrukuj\n",
    "tablicę A\n"
   ]
  },
  {
   "cell_type": "code",
   "execution_count": 17,
   "id": "a87fcc16-a6d0-48d2-a100-979214b413a2",
   "metadata": {},
   "outputs": [
    {
     "name": "stdout",
     "output_type": "stream",
     "text": [
      "Tablica A z 10 elementami brzegowymi:\n",
      "[[5 0 3 0 1 4 7 7 2 3 ... 4 9 4 2 6 5 3 1 8 0]\n",
      " [3 0 5 3 4 4 8 0 1 5 ... 4 6 3 2 0 7 2 1 3 2]\n",
      " [0 2 1 7 5 8 7 9 2 4 ... 1 5 5 4 5 6 4 0 7 3]\n",
      " [8 9 5 0 2 2 9 3 5 6 ... 2 4 1 2 3 6 2 8 7 3]\n",
      " [0 0 0 0 7 2 5 2 4 6 ... 7 2 7 8 2 2 1 7 9 0]\n",
      " [7 6 6 2 0 3 8 4 0 4 ... 8 1 3 5 2 7 2 1 2 5]\n",
      " [1 7 0 6 1 9 5 1 1 9 ... 4 6 0 0 8 4 4 2 4 2]\n",
      " [8 8 5 0 6 6 9 9 3 7 ... 6 7 1 6 1 1 7 1 8 0]\n",
      " [8 0 9 9 1 5 5 0 6 7 ... 1 3 3 1 2 2 0 5 7 2]\n",
      " [4 0 9 6 9 0 8 7 6 9 ... 4 3 2 2 4 9 0 4 5 6]\n",
      " ...\n",
      " [6 0 2 5 3 6 2 0 8 5 ... 1 3 8 5 7 1 6 5 8 6]\n",
      " [0 7 9 2 1 2 5 2 9 4 ... 7 7 5 3 2 2 5 7 6 0]\n",
      " [5 6 6 8 9 4 0 1 3 4 ... 3 6 1 1 5 1 5 1 3 6]\n",
      " [7 2 8 1 7 7 3 0 0 1 ... 1 0 4 8 7 3 4 4 5 2]\n",
      " [4 1 9 0 0 9 6 1 3 4 ... 8 4 7 8 4 9 8 1 8 3]\n",
      " [5 5 5 1 6 5 0 1 6 0 ... 3 5 1 6 1 9 7 7 0 7]\n",
      " [1 5 0 4 6 9 0 1 6 5 ... 6 7 5 5 9 0 3 0 3 1]\n",
      " [4 9 8 9 2 7 2 5 3 7 ... 8 6 2 5 3 2 8 9 1 0]\n",
      " [1 6 9 0 5 6 8 7 5 2 ... 5 4 0 2 0 4 4 5 7 9]\n",
      " [0 3 9 0 8 6 6 4 6 1 ... 8 3 0 5 4 9 5 2 1 5]]\n"
     ]
    }
   ],
   "source": [
    "A = np.random.randint(10, size=(100, 30))\n",
    " \n",
    "np.set_printoptions(edgeitems=10)\n",
    "\n",
    "A = np.random.randint(10, size=(100, 30))\n",
    "\n",
    "print(\"Tablica A z 10 elementami brzegowymi:\")\n",
    "print(A)"
   ]
  },
  {
   "cell_type": "markdown",
   "id": "adc5a6a6-ee6e-45e0-ba88-3e71be1454fe",
   "metadata": {
    "tags": []
   },
   "source": [
    "# Wnioski i sugestie do ćwiczeń"
   ]
  },
  {
   "cell_type": "markdown",
   "id": "36ddd5dc-5be9-4e56-8e85-5cfdabeff398",
   "metadata": {},
   "source": [
    "Wnioski: ćwieczenia nie sprawiły problemu, szczegulnie przydatne moga być funkcje takie jak column_stack, concatenate, orez split. Natomiast set_printoptions bedzie bardzo potrzebna przy ocenie i analizie danych."
   ]
  }
 ],
 "metadata": {
  "kernelspec": {
   "display_name": "Python 3 (ipykernel)",
   "language": "python",
   "name": "python3"
  },
  "language_info": {
   "codemirror_mode": {
    "name": "ipython",
    "version": 3
   },
   "file_extension": ".py",
   "mimetype": "text/x-python",
   "name": "python",
   "nbconvert_exporter": "python",
   "pygments_lexer": "ipython3",
   "version": "3.11.7"
  }
 },
 "nbformat": 4,
 "nbformat_minor": 5
}
